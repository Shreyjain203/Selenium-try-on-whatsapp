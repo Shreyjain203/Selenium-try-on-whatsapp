{
 "cells": [
  {
   "cell_type": "code",
   "execution_count": null,
   "metadata": {},
   "outputs": [],
   "source": [
    "from selenium import webdriver \n",
    "from selenium.webdriver.support.ui import WebDriverWait \n",
    "from selenium.webdriver.support import expected_conditions as EC \n",
    "from selenium.webdriver.common.keys import Keys \n",
    "from selenium.webdriver.common.by import By \n",
    "import time\n",
    "import threading\n",
    "import datetime\n",
    "from bs4 import BeautifulSoup\n",
    "import requests\n",
    "import calendar as k"
   ]
  },
  {
   "cell_type": "code",
   "execution_count": null,
   "metadata": {},
   "outputs": [],
   "source": [
    "from selenium import webdriver \n",
    "driver = webdriver.Chrome()"
   ]
  },
  {
   "cell_type": "code",
   "execution_count": null,
   "metadata": {},
   "outputs": [],
   "source": [
    "URL = 'https://web.whatsapp.com/'  #request to access the website\n",
    "driver.get(URL) "
   ]
  },
  {
   "cell_type": "code",
   "execution_count": null,
   "metadata": {},
   "outputs": [],
   "source": [
    "temp ='y'\n",
    "while temp=='y' or temp== 'Y':\n",
    "    wait = WebDriverWait(driver, 600) \n",
    "    no_of_person = int(input('How Many Person, do you want message to be sent:\\t')) \n",
    "    string = input(\"Enter the Message:\\t\")\n",
    "    no_of_times = int(input(\"How many times message has to be send:\\t\"))\n",
    "    for j in range(no_of_person):\n",
    "        target = input(\"Receiver's Name:\\t\")\n",
    "        user = driver.find_elements(By.XPATH,'//span[@title = \"{}\"]'.format(target))\n",
    "        user[0].click()\n",
    "        \n",
    "        for i in range(no_of_times):\n",
    "            print(i)\n",
    "            msg_box = driver.find_element(By.XPATH,'//div[@title = \"Type a message\"]/p')\n",
    "            msg_box.click()\n",
    "            msg_box.send_keys(string+Keys.ENTER)\n",
    "    temp = input('Do you want to send more messages??'+'\\n'+'y or n\\t')      "
   ]
  }
 ],
 "metadata": {
  "kernelspec": {
   "display_name": "Python 3 (ipykernel)",
   "language": "python",
   "name": "python3"
  },
  "language_info": {
   "codemirror_mode": {
    "name": "ipython",
    "version": 3
   },
   "file_extension": ".py",
   "mimetype": "text/x-python",
   "name": "python",
   "nbconvert_exporter": "python",
   "pygments_lexer": "ipython3",
   "version": "3.10.9"
  }
 },
 "nbformat": 4,
 "nbformat_minor": 2
}
